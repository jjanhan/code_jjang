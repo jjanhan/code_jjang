{
 "cells": [
  {
   "cell_type": "markdown",
   "metadata": {},
   "source": [
    "factorial 구하기"
   ]
  },
  {
   "cell_type": "code",
   "execution_count": 1,
   "metadata": {},
   "outputs": [
    {
     "name": "stdout",
     "output_type": "stream",
     "text": [
      "출력할 팩토리얼 값을 입력하세요.: 5\n",
      "5의 팩토리얼은 120입니다.\n"
     ]
    }
   ],
   "source": [
    "def factorial(n: int) -> int:\n",
    "    if n > 0:\n",
    "        return n * factorial(n-1)\n",
    "    else:\n",
    "        return 1\n",
    "    \n",
    "if __name__ == '__main__':\n",
    "    n = int(input('출력할 팩토리얼 값을 입력하세요.: '))\n",
    "    print(f'{n}의 팩토리얼은 {factorial(n)}입니다.')"
   ]
  },
  {
   "cell_type": "code",
   "execution_count": null,
   "metadata": {},
   "outputs": [],
   "source": []
  },
  {
   "cell_type": "markdown",
   "metadata": {},
   "source": [
    "유클리드 호제법으로 최대공약수 구하기"
   ]
  },
  {
   "cell_type": "code",
   "execution_count": 2,
   "metadata": {},
   "outputs": [
    {
     "name": "stdout",
     "output_type": "stream",
     "text": [
      "두 정수값의 최대 공약수를 구합니다.\n",
      "첫 번째 정수를 입력하세요.: 1558\n",
      "두 번째 정수를 입력하세요.: 3854\n",
      "두 정수의 최대 공약수는 82입니다.\n"
     ]
    }
   ],
   "source": [
    "def gcd(x: int, y: int) -> int:\n",
    "    if y == 0:\n",
    "        return x\n",
    "    else:\n",
    "        return gcd(y, x%y)\n",
    "    \n",
    "if __name__ == '__main__':\n",
    "    print('두 정수값의 최대 공약수를 구합니다.')\n",
    "    x = int(input('첫 번째 정수를 입력하세요.: '))\n",
    "    y = int(input('두 번째 정수를 입력하세요.: '))\n",
    "    \n",
    "    print(f'두 정수의 최대 공약수는 {gcd(x, y)}입니다.')"
   ]
  },
  {
   "cell_type": "code",
   "execution_count": null,
   "metadata": {},
   "outputs": [],
   "source": []
  },
  {
   "cell_type": "markdown",
   "metadata": {},
   "source": [
    "math 모듈의 gcd 함수를 이용하여 최대공약수룰 구합니다."
   ]
  },
  {
   "cell_type": "code",
   "execution_count": 3,
   "metadata": {},
   "outputs": [
    {
     "name": "stdout",
     "output_type": "stream",
     "text": [
      "두 정수값의 최대 공약수를 구합니다.\n",
      "첫 번째 정수를 입력하세요.: 1558\n",
      "두 번째 정수를 입력하세요.: 3854\n",
      "두 정수의 최대 공약수는 82입니다.\n"
     ]
    }
   ],
   "source": [
    "import math\n",
    "\n",
    "print('두 정수값의 최대 공약수를 구합니다.')\n",
    "x = int(input('첫 번째 정수를 입력하세요.: '))\n",
    "y = int(input('두 번째 정수를 입력하세요.: '))\n",
    "\n",
    "print(f'두 정수의 최대 공약수는 {math.gcd(x, y)}입니다.')\n"
   ]
  },
  {
   "cell_type": "code",
   "execution_count": null,
   "metadata": {},
   "outputs": [],
   "source": []
  },
  {
   "cell_type": "code",
   "execution_count": null,
   "metadata": {},
   "outputs": [],
   "source": []
  },
  {
   "cell_type": "markdown",
   "metadata": {},
   "source": [
    "재귀함수의 실행"
   ]
  },
  {
   "cell_type": "code",
   "execution_count": 5,
   "metadata": {},
   "outputs": [
    {
     "name": "stdout",
     "output_type": "stream",
     "text": [
      "정수를 입력하세요.: 4\n",
      "1\n",
      "2\n",
      "3\n",
      "1\n",
      "4\n",
      "1\n",
      "2\n"
     ]
    }
   ],
   "source": [
    "def recur(n: int) -> int:\n",
    "    if n > 0:\n",
    "        recur(n - 1)\n",
    "        print(n)\n",
    "        recur(n - 2)\n",
    "        \n",
    "x = int(input('정수를 입력하세요.: '))\n",
    "\n",
    "recur(x)"
   ]
  },
  {
   "cell_type": "markdown",
   "metadata": {},
   "source": [
    "위 함수의 실행을 쫓아가기 힘들어서 변형"
   ]
  },
  {
   "cell_type": "code",
   "execution_count": 7,
   "metadata": {},
   "outputs": [
    {
     "name": "stdout",
     "output_type": "stream",
     "text": [
      "정수를 입력하세요.: 4\n",
      "\n",
      "4    callNo_00\n",
      "3    callNo_01\n",
      "2    callNo_01\n",
      "1    callNo_01\n",
      "0    callNo_01\n",
      "1\n",
      "-1    callNo_02\n",
      "2\n",
      "0    callNo_02\n",
      "3\n",
      "1    callNo_02\n",
      "0    callNo_01\n",
      "1\n",
      "-1    callNo_02\n",
      "4\n",
      "2    callNo_02\n",
      "1    callNo_01\n",
      "0    callNo_01\n",
      "1\n",
      "-1    callNo_02\n",
      "2\n",
      "0    callNo_02\n"
     ]
    }
   ],
   "source": [
    "def recur(n: int, s: str) -> int:\n",
    "    print(n, '  ', s)\n",
    "    if n > 0:\n",
    "        recur(n - 1, \"callNo_01\")\n",
    "        print(n)\n",
    "        recur(n - 2, \"callNo_02\")\n",
    "        \n",
    "x = int(input('정수를 입력하세요.: '))\n",
    "print()\n",
    "\n",
    "recur(x, \"callNo_00\")"
   ]
  },
  {
   "cell_type": "code",
   "execution_count": null,
   "metadata": {},
   "outputs": [],
   "source": []
  },
  {
   "cell_type": "code",
   "execution_count": 4,
   "metadata": {},
   "outputs": [
    {
     "name": "stdout",
     "output_type": "stream",
     "text": [
      "정수를 입력하세요.: 4\n",
      "1\n",
      "2\n",
      "3\n",
      "1\n",
      "4\n",
      "1\n",
      "2\n"
     ]
    }
   ],
   "source": [
    "def recur(n: int) -> int:\n",
    "    while n > 0:\n",
    "        recur(n - 1)\n",
    "        print(n)\n",
    "        n = n - 2\n",
    "        \n",
    "x = int(input('정수를 입력하세요.: '))\n",
    "\n",
    "recur(x)"
   ]
  },
  {
   "cell_type": "code",
   "execution_count": null,
   "metadata": {},
   "outputs": [],
   "source": []
  },
  {
   "cell_type": "code",
   "execution_count": null,
   "metadata": {},
   "outputs": [],
   "source": []
  },
  {
   "cell_type": "code",
   "execution_count": 5,
   "metadata": {},
   "outputs": [
    {
     "name": "stdout",
     "output_type": "stream",
     "text": [
      "정수를 입력하세요.: 4\n",
      "2\n",
      "1\n",
      "4\n",
      "1\n",
      "3\n",
      "2\n",
      "1\n"
     ]
    }
   ],
   "source": [
    "def recur(n: int) -> int:\n",
    "    if n > 0:\n",
    "        recur(n - 2)\n",
    "        print(n)\n",
    "        recur(n - 1)\n",
    "        \n",
    "x = int(input('정수를 입력하세요.: '))\n",
    "\n",
    "recur(x)"
   ]
  },
  {
   "cell_type": "code",
   "execution_count": null,
   "metadata": {},
   "outputs": [],
   "source": []
  },
  {
   "cell_type": "code",
   "execution_count": null,
   "metadata": {},
   "outputs": [],
   "source": []
  },
  {
   "cell_type": "code",
   "execution_count": 8,
   "metadata": {},
   "outputs": [
    {
     "name": "stdout",
     "output_type": "stream",
     "text": [
      "정수를 입력하세요.: 4\n",
      "1\n",
      "2\n",
      "3\n",
      "1\n",
      "4\n",
      "1\n",
      "2\n"
     ]
    }
   ],
   "source": [
    "from stack import Stack\n",
    "\n",
    "def recur(n: int) -> int:\n",
    "    s = Stack(n)\n",
    "    \n",
    "    while True:\n",
    "        if n > 0:\n",
    "            s.push(n)\n",
    "            n = n - 1\n",
    "            continue\n",
    "        if not s.is_empty():\n",
    "            n = s.pop()\n",
    "            print(n)\n",
    "            n = n - 2\n",
    "            continue\n",
    "        break\n",
    "        \n",
    "x = int(input('정수를 입력하세요.: '))\n",
    "\n",
    "recur(x)"
   ]
  },
  {
   "cell_type": "code",
   "execution_count": null,
   "metadata": {},
   "outputs": [],
   "source": []
  },
  {
   "cell_type": "code",
   "execution_count": null,
   "metadata": {},
   "outputs": [],
   "source": []
  },
  {
   "cell_type": "code",
   "execution_count": null,
   "metadata": {},
   "outputs": [],
   "source": []
  },
  {
   "cell_type": "code",
   "execution_count": null,
   "metadata": {},
   "outputs": [],
   "source": []
  },
  {
   "cell_type": "code",
   "execution_count": null,
   "metadata": {},
   "outputs": [],
   "source": []
  }
 ],
 "metadata": {
  "kernelspec": {
   "display_name": "Python 3",
   "language": "python",
   "name": "python3"
  },
  "language_info": {
   "codemirror_mode": {
    "name": "ipython",
    "version": 3
   },
   "file_extension": ".py",
   "mimetype": "text/x-python",
   "name": "python",
   "nbconvert_exporter": "python",
   "pygments_lexer": "ipython3",
   "version": "3.7.9"
  }
 },
 "nbformat": 4,
 "nbformat_minor": 4
}
