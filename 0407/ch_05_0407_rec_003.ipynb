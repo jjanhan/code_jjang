{
 "cells": [
  {
   "cell_type": "markdown",
   "metadata": {},
   "source": [
    "용량이 10L인 그릇이 있습니다.  \n",
    "\n",
    "이 그릇에 물이 가득 차 있고, 그릇에 있는 물의 반을 버리고 2L를 넣는 행위를 반복할 때  \n",
    "\n",
    "그릇에 남은 물의 양을 계산하는 문제입니다.  \n",
    "\n",
    "이것을 점화식으로 표현하면 (선형점화식)  \n",
    "\n",
    "\n",
    "$a_1 = 10$  \n",
    "\n",
    "$a_{n+1} = \\cfrac{1}{2} a_n + 2$\n",
    "\n",
    "와 같습니다.  \n",
    "\n",
    "이때 남은 물의 양을 구하는 문제를 재귀함수로 나타냈습니다."
   ]
  },
  {
   "cell_type": "code",
   "execution_count": 15,
   "metadata": {},
   "outputs": [],
   "source": [
    "def remain_water(a, n):\n",
    "    if n == 0:\n",
    "        return a\n",
    "    print('n: ', n, '  a: ', a)\n",
    "    return remain_water(a/2 + 2, n-1)"
   ]
  },
  {
   "cell_type": "code",
   "execution_count": 16,
   "metadata": {},
   "outputs": [
    {
     "name": "stdout",
     "output_type": "stream",
     "text": [
      "n:  5   a:  10\n",
      "n:  4   a:  7.0\n",
      "n:  3   a:  5.5\n",
      "n:  2   a:  4.75\n",
      "n:  1   a:  4.375\n",
      "4.1875\n"
     ]
    }
   ],
   "source": [
    "a = 10\n",
    "\n",
    "print(remain_water(a, 5))"
   ]
  },
  {
   "cell_type": "code",
   "execution_count": null,
   "metadata": {},
   "outputs": [],
   "source": []
  },
  {
   "cell_type": "markdown",
   "metadata": {},
   "source": [
    "강의 상류와 하류에 댐이 두 개 있습니다.  \n",
    "\n",
    "날마다 상류댐에서 200 톤의 물을 방류하고  \n",
    "\n",
    "하류 댐에서는 물의 2%를 농업용수로 그 지역의 논에 공급합니다.  \n",
    "\n",
    "현재 하류 댐에 5000톤의 물이 저장되어 있을 때,  \n",
    "\n",
    "100일 후 하류 댐에 남아있는 물의 양을 구하는 문제입니다.  \n",
    "\n",
    "\n",
    "$a_1 = 5000$  \n",
    "$a_{n+1} = \\cfrac{49}{50} a_n + 200$\n"
   ]
  },
  {
   "cell_type": "code",
   "execution_count": 20,
   "metadata": {},
   "outputs": [],
   "source": [
    "def dam_water(a, n):\n",
    "    if n == 0:\n",
    "        return a\n",
    "    return dam_water(0.98*a+200, n-1)"
   ]
  },
  {
   "cell_type": "code",
   "execution_count": 24,
   "metadata": {},
   "outputs": [
    {
     "name": "stdout",
     "output_type": "stream",
     "text": [
      "9336.902220526228\n"
     ]
    }
   ],
   "source": [
    "a = 5000\n",
    "print(dam_water(a, 100))"
   ]
  },
  {
   "cell_type": "code",
   "execution_count": null,
   "metadata": {},
   "outputs": [],
   "source": []
  },
  {
   "cell_type": "markdown",
   "metadata": {},
   "source": [
    "매일 아침 비타민 100mg을 섭취하도록 의사 처방을 받았습니다.  \n",
    "이 비타민은 하루가 지나면 60%가 몸 밖으로 배출되고  \n",
    "나머지는 체내에 남는다고 합니다.  \n",
    "30일 후 몸에 잔류된 비타민 양을 구하는 문제입니다.  \n",
    "  \n",
    "  \n",
    "$a_1 = 0.4 \\times 100 + 100 = 140$    \n",
    "\n",
    "$a_{n+1} = 0.4 \\, a_n + 100$"
   ]
  },
  {
   "cell_type": "code",
   "execution_count": 8,
   "metadata": {},
   "outputs": [],
   "source": [
    "def vitamin(a, n):\n",
    "    if n == 0:\n",
    "        return a\n",
    "    return vitamin(0.4*a + 100, n-1)"
   ]
  },
  {
   "cell_type": "code",
   "execution_count": 9,
   "metadata": {},
   "outputs": [
    {
     "name": "stdout",
     "output_type": "stream",
     "text": [
      "166.66666666663593\n"
     ]
    }
   ],
   "source": [
    "a = 140\n",
    "print(vitamin(a, 30))"
   ]
  },
  {
   "cell_type": "code",
   "execution_count": null,
   "metadata": {},
   "outputs": [],
   "source": []
  },
  {
   "cell_type": "markdown",
   "metadata": {},
   "source": [
    "자유낙하시키면 높이의 90%까지 튀어오르는 공이 있습니다.  \n",
    "이 공을 10m 높이에서 떨어뜨렸을 때,  \n",
    "10번 튀어오른 후 땅에 떨어질 때까지 공이 움직인 거리는 얼마인지를 구하시오."
   ]
  },
  {
   "cell_type": "code",
   "execution_count": 1,
   "metadata": {},
   "outputs": [],
   "source": [
    "def length_move(l, h, n):\n",
    "    if n == 0:\n",
    "        return l+h\n",
    "    return length_move(l+h, 0.9*h, n-1)"
   ]
  },
  {
   "cell_type": "code",
   "execution_count": 6,
   "metadata": {},
   "outputs": [
    {
     "name": "stdout",
     "output_type": "stream",
     "text": [
      "58.78\n"
     ]
    }
   ],
   "source": [
    "l = 0\n",
    "h = 10\n",
    "n = 3\n",
    "l_move = 2*length_move(l, h, n) - h\n",
    "print(l_move)"
   ]
  },
  {
   "cell_type": "code",
   "execution_count": 7,
   "metadata": {},
   "outputs": [
    {
     "data": {
      "text/plain": [
       "58.78"
      ]
     },
     "execution_count": 7,
     "metadata": {},
     "output_type": "execute_result"
    }
   ],
   "source": [
    "# \"올라간 높이 + 내려간 높이\" 를 모두 더한 후, 처음 올라간 높이 10을 빼면 됨\n",
    "# 10 + 2*(10*0.9 + 10*0.9^2 + 10*0.9^3) 을 계산하면 됨\n",
    "(10 + 9 + 8.1 + 0.9*0.9*0.9 * 10)*2 - 10"
   ]
  },
  {
   "cell_type": "code",
   "execution_count": 8,
   "metadata": {},
   "outputs": [
    {
     "name": "stdout",
     "output_type": "stream",
     "text": [
      "127.23788078199999\n"
     ]
    }
   ],
   "source": [
    "n = 10\n",
    "l_move = 2*length_move(l, h, n) - h\n",
    "print(l_move)"
   ]
  },
  {
   "cell_type": "code",
   "execution_count": null,
   "metadata": {},
   "outputs": [],
   "source": []
  }
 ],
 "metadata": {
  "kernelspec": {
   "display_name": "Python 3",
   "language": "python",
   "name": "python3"
  },
  "language_info": {
   "codemirror_mode": {
    "name": "ipython",
    "version": 3
   },
   "file_extension": ".py",
   "mimetype": "text/x-python",
   "name": "python",
   "nbconvert_exporter": "python",
   "pygments_lexer": "ipython3",
   "version": "3.7.9"
  }
 },
 "nbformat": 4,
 "nbformat_minor": 4
}
