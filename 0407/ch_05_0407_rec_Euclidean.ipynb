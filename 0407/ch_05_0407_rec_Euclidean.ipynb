{
 "cells": [
  {
   "cell_type": "markdown",
   "metadata": {},
   "source": [
    "순환문을 이용해서 최대공약수를 구합니다.  \n",
    "유클리드 호제법을 이용합니다."
   ]
  },
  {
   "cell_type": "code",
   "execution_count": 4,
   "metadata": {},
   "outputs": [
    {
     "data": {
      "text/plain": [
       "82"
      ]
     },
     "execution_count": 4,
     "metadata": {},
     "output_type": "execute_result"
    }
   ],
   "source": [
    "a = 1558\n",
    "b = 3854\n",
    "\n",
    "def gcd(a, b):\n",
    "    if type(a) != int or type(b) != int:\n",
    "        return None\n",
    "    if a < b:\n",
    "        a, b = b, a\n",
    "    \n",
    "    while True:\n",
    "        if a % b == 0:\n",
    "            return b\n",
    "        else:\n",
    "            a, b = b, a % b\n",
    "\n",
    "gcd(a, b)\n",
    "        "
   ]
  },
  {
   "cell_type": "code",
   "execution_count": null,
   "metadata": {},
   "outputs": [],
   "source": []
  },
  {
   "cell_type": "markdown",
   "metadata": {},
   "source": [
    "재귀함수를 이용해서 최대공약수를 구합니다.  \n",
    "유클리드 호제법을 이용합니다."
   ]
  },
  {
   "cell_type": "code",
   "execution_count": 7,
   "metadata": {},
   "outputs": [
    {
     "name": "stdout",
     "output_type": "stream",
     "text": [
      "82\n"
     ]
    }
   ],
   "source": [
    "a = 1558\n",
    "b = 3854\n",
    "\n",
    "def rec_gcd(a, b):\n",
    "    while True:\n",
    "        if b == 0:\n",
    "            return a\n",
    "        else:\n",
    "            return rec_gcd(b, a % b)\n",
    "            \n",
    "# if a < b:\n",
    "#     a, b = b, a\n",
    "print(rec_gcd(a, b))\n",
    "  "
   ]
  },
  {
   "cell_type": "code",
   "execution_count": null,
   "metadata": {},
   "outputs": [],
   "source": []
  },
  {
   "cell_type": "markdown",
   "metadata": {},
   "source": [
    "C 언어 형태로 구현해보기  \n",
    "최대공약수와 그림에서 보이는 정사각형의 개수를 구함"
   ]
  },
  {
   "cell_type": "code",
   "execution_count": 8,
   "metadata": {},
   "outputs": [
    {
     "name": "stdout",
     "output_type": "stream",
     "text": [
      "최대공약수:  82 \t\t정사각형 개수:  13\n"
     ]
    }
   ],
   "source": [
    "def ctype_gcd(a, b):\n",
    "    count = 0\n",
    "    \n",
    "    while True:\n",
    "        if a == 0:\n",
    "            return b, count\n",
    "\n",
    "        if a < b:\n",
    "            temp = a\n",
    "            a = b\n",
    "            b = temp\n",
    "            \n",
    "        while a >= b:\n",
    "            a -= b\n",
    "            count += 1\n",
    "            \n",
    "a = 1558\n",
    "b = 3854\n",
    "\n",
    "r_gcd, r_count = ctype_gcd(a, b)\n",
    "print('최대공약수: ', r_gcd, '\\t\\t정사각형 개수: ', r_count)\n",
    "            "
   ]
  },
  {
   "cell_type": "code",
   "execution_count": null,
   "metadata": {},
   "outputs": [],
   "source": []
  }
 ],
 "metadata": {
  "kernelspec": {
   "display_name": "Python 3",
   "language": "python",
   "name": "python3"
  },
  "language_info": {
   "codemirror_mode": {
    "name": "ipython",
    "version": 3
   },
   "file_extension": ".py",
   "mimetype": "text/x-python",
   "name": "python",
   "nbconvert_exporter": "python",
   "pygments_lexer": "ipython3",
   "version": "3.7.9"
  }
 },
 "nbformat": 4,
 "nbformat_minor": 4
}
