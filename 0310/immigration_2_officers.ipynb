{
 "cells": [
  {
   "cell_type": "code",
   "execution_count": 80,
   "metadata": {},
   "outputs": [],
   "source": [
    "def solution(n, times):\n",
    "    answer = 0\n",
    "    ag = times[0]\n",
    "    bg = times[1]\n",
    "    \n",
    "    if ag > bg:\n",
    "        ag, bg = bg, ag\n",
    "    \n",
    "    while True:\n",
    "        if ag % bg == 0:\n",
    "            gcd = bg\n",
    "            break\n",
    "        else:\n",
    "            ag, bg = bg, ag % bg\n",
    "            \n",
    "    a = int(times[0] / gcd)\n",
    "    b = int(times[1] / gcd)\n",
    "    lcd = a * b * gcd\n",
    "    \n",
    "    r = n % (a + b)\n",
    "#     print(r)\n",
    "    \n",
    "    a_c = 0\n",
    "    b_c = 0\n",
    "    r_time = 0\n",
    "    \n",
    "    if a <= b:\n",
    "        for i in range(0, r):\n",
    "            if (b_c + 1)*times[1] <= (a_c + 1) * times[0]:\n",
    "                b_c += 1\n",
    "            else:\n",
    "                a_c += 1\n",
    "    else:\n",
    "        for i in range(0, r):\n",
    "            if (a_c + 1)*times[0] <= (b_c + 1) * times[1]:\n",
    "                a_c += 1\n",
    "            else:\n",
    "                b_c += 1\n",
    "\n",
    "    r_time = max(a_c*times[0], b_c*times[1])\n",
    "    \n",
    "#     print(a, a_c, b, b_c, lcd, r_time)\n",
    "    answer = lcd * (n // (a + b)) + r_time\n",
    "#     print(n // (a+b), answer)\n",
    "    \n",
    "    return answer"
   ]
  },
  {
   "cell_type": "code",
   "execution_count": 83,
   "metadata": {},
   "outputs": [
    {
     "name": "stdout",
     "output_type": "stream",
     "text": [
      "5\n",
      "7\n",
      "10\n",
      "14\n",
      "15\n",
      "20\n",
      "21\n",
      "25\n",
      "28\n",
      "30\n",
      "35\n",
      "35\n",
      "40\n",
      "42\n",
      "45\n",
      "49\n",
      "50\n",
      "55\n",
      "56\n",
      "60\n",
      "63\n",
      "65\n",
      "70\n",
      "70\n",
      "75\n",
      "77\n",
      "80\n",
      "84\n",
      "85\n",
      "90\n",
      "91\n",
      "95\n",
      "98\n",
      "100\n",
      "105\n",
      "105\n",
      "110\n",
      "112\n",
      "115\n"
     ]
    }
   ],
   "source": [
    "for i in range(1, 40):\n",
    "    print(solution(i, [5, 7]))"
   ]
  },
  {
   "cell_type": "code",
   "execution_count": null,
   "metadata": {},
   "outputs": [],
   "source": []
  },
  {
   "cell_type": "code",
   "execution_count": null,
   "metadata": {},
   "outputs": [],
   "source": []
  },
  {
   "cell_type": "code",
   "execution_count": null,
   "metadata": {},
   "outputs": [],
   "source": []
  },
  {
   "cell_type": "code",
   "execution_count": null,
   "metadata": {},
   "outputs": [],
   "source": []
  }
 ],
 "metadata": {
  "kernelspec": {
   "display_name": "Python 3",
   "language": "python",
   "name": "python3"
  },
  "language_info": {
   "codemirror_mode": {
    "name": "ipython",
    "version": 3
   },
   "file_extension": ".py",
   "mimetype": "text/x-python",
   "name": "python",
   "nbconvert_exporter": "python",
   "pygments_lexer": "ipython3",
   "version": "3.7.9"
  }
 },
 "nbformat": 4,
 "nbformat_minor": 4
}
