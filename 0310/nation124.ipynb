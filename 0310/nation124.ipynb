{
 "cells": [
  {
   "cell_type": "markdown",
   "metadata": {},
   "source": [
    "124 나라가 있습니다. 124 나라에서는 10진법이 아닌 다음과 같은 자신들만의 규칙으로 수를 표현합니다.\n",
    "\n",
    "124 나라에는 자연수만 존재합니다.\n",
    "124 나라에는 모든 수를 표현할 때 1, 2, 4만 사용합니다.\n",
    "예를 들어서 124 나라에서 사용하는 숫자는 다음과 같이 변환됩니다.\n",
    "\n",
    "10진법\t124 나라\t10진법\t124 나라\n",
    "1\t1\t6\t14\n",
    "2\t2\t7\t21\n",
    "3\t4\t8\t22\n",
    "4\t11\t9\t24\n",
    "5\t12\t10\t41\n",
    "자연수 n이 매개변수로 주어질 때, n을 124 나라에서 사용하는 숫자로 바꾼 값을 return 하도록 solution 함수를 완성해 주세요.\n",
    "\n",
    "제한사항\n",
    "n은 500,000,000이하의 자연수 입니다.\n",
    "입출력 예\n",
    "n\tresult\n",
    "1\t1\n",
    "2\t2\n",
    "3\t4\n",
    "4\t11\n"
   ]
  },
  {
   "cell_type": "code",
   "execution_count": 4,
   "metadata": {},
   "outputs": [],
   "source": [
    "def solution(n):\n",
    "    answer = []\n",
    "    \n",
    "    while True:\n",
    "        a_q = n // 3\n",
    "        a_r = n % 3\n",
    "        if a_r == 0:\n",
    "            a_q -= 1\n",
    "            a_r = 4\n",
    "            answer.append(str(a_r))\n",
    "        else:\n",
    "            answer.append(str(a_r))\n",
    "        n = a_q\n",
    "        \n",
    "        if a_q == 0:\n",
    "            break\n",
    "\n",
    "    answer = answer[::-1]\n",
    "                              \n",
    "    return ''.join(answer)"
   ]
  },
  {
   "cell_type": "code",
   "execution_count": 5,
   "metadata": {},
   "outputs": [
    {
     "name": "stdout",
     "output_type": "stream",
     "text": [
      "1  1\n",
      "2  2\n",
      "3  4\n",
      "4  11\n",
      "5  12\n",
      "6  14\n",
      "7  21\n",
      "8  22\n",
      "9  24\n",
      "10  41\n",
      "11  42\n",
      "12  44\n",
      "13  111\n",
      "14  112\n",
      "15  114\n",
      "16  121\n",
      "17  122\n",
      "18  124\n",
      "19  141\n"
     ]
    }
   ],
   "source": [
    "for i in range(1, 20):\n",
    "    print(str(i) + '  ' + solution(i))"
   ]
  },
  {
   "cell_type": "code",
   "execution_count": 10,
   "metadata": {},
   "outputs": [
    {
     "name": "stdout",
     "output_type": "stream",
     "text": [
      "321\n"
     ]
    }
   ],
   "source": [
    "a = \"123\"\n",
    "a = a[::-1]\n",
    "print(a)"
   ]
  },
  {
   "cell_type": "code",
   "execution_count": null,
   "metadata": {},
   "outputs": [],
   "source": []
  },
  {
   "cell_type": "code",
   "execution_count": 1,
   "metadata": {},
   "outputs": [
    {
     "name": "stdout",
     "output_type": "stream",
     "text": [
      "1   1\n",
      "2   2\n",
      "3   4\n",
      "4   11\n",
      "5   12\n",
      "6   14\n",
      "7   21\n",
      "8   22\n",
      "9   24\n",
      "10   41\n",
      "11   42\n",
      "12   44\n",
      "13   111\n",
      "14   112\n",
      "15   114\n",
      "16   121\n",
      "17   122\n",
      "18   124\n",
      "19   141\n"
     ]
    }
   ],
   "source": [
    "def digit_to_124num(n):\n",
    "    answer = []\n",
    "    while n > 0:\n",
    "        if n < 3:\n",
    "            answer.append(str(n))\n",
    "            break\n",
    "        else:\n",
    "            if n % 3 == 0:\n",
    "                answer.append(str(4))\n",
    "                n = n // 3 - 1\n",
    "            else:\n",
    "                answer.append(str(n % 3))\n",
    "                n = n // 3\n",
    "\n",
    "    answer = answer[::-1]\n",
    "                              \n",
    "    return ''.join(answer)\n",
    "\n",
    "for i in range(1, 20):\n",
    "    print(str(i), \" \", digit_to_124num(i))"
   ]
  },
  {
   "cell_type": "code",
   "execution_count": null,
   "metadata": {},
   "outputs": [],
   "source": []
  },
  {
   "cell_type": "code",
   "execution_count": null,
   "metadata": {},
   "outputs": [],
   "source": []
  }
 ],
 "metadata": {
  "kernelspec": {
   "display_name": "Python 3",
   "language": "python",
   "name": "python3"
  },
  "language_info": {
   "codemirror_mode": {
    "name": "ipython",
    "version": 3
   },
   "file_extension": ".py",
   "mimetype": "text/x-python",
   "name": "python",
   "nbconvert_exporter": "python",
   "pygments_lexer": "ipython3",
   "version": "3.7.9"
  }
 },
 "nbformat": 4,
 "nbformat_minor": 4
}
