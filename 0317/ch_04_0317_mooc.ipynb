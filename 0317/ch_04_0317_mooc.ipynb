{
 "cells": [
  {
   "cell_type": "markdown",
   "metadata": {},
   "source": [
    "stack은 리스트에서 구현이 가능함.  \n",
    "pop() 함수를 사용하면 마지막에 입력된 자료를 출력하게 됨."
   ]
  },
  {
   "cell_type": "code",
   "execution_count": 1,
   "metadata": {},
   "outputs": [
    {
     "name": "stdout",
     "output_type": "stream",
     "text": [
      "Input a word: absolutely\n",
      "y\n",
      "l\n",
      "e\n",
      "t\n",
      "u\n",
      "l\n",
      "o\n",
      "s\n",
      "b\n",
      "a\n"
     ]
    }
   ],
   "source": [
    "word = input(\"Input a word: \")\n",
    "word_list = list(word)\n",
    "\n",
    "for _ in range(len(word_list)):\n",
    "    print(word_list.pop())\n",
    "    "
   ]
  },
  {
   "cell_type": "code",
   "execution_count": 4,
   "metadata": {},
   "outputs": [
    {
     "name": "stdout",
     "output_type": "stream",
     "text": [
      "Input a word: absolutely\n",
      "['y', 'l', 'e', 't', 'u', 'l', 'o', 's', 'b', 'a']\n",
      "yletulosba\n",
      "yletulosba\n"
     ]
    }
   ],
   "source": [
    "# 스택으로 출력되는 함수를 리스트 한 개\n",
    "# 또는 붙여서 출력하는 방법\n",
    "\n",
    "word = input(\"Input a word: \")\n",
    "word_list = list(word)\n",
    "\n",
    "result = []\n",
    "\n",
    "for _ in range(len(word_list)):\n",
    "    result.append(word_list.pop())\n",
    "    \n",
    "print(result)\n",
    "\n",
    "print(''.join(result))\n",
    "\n",
    "print(word[::-1])"
   ]
  },
  {
   "cell_type": "code",
   "execution_count": null,
   "metadata": {},
   "outputs": [],
   "source": []
  },
  {
   "cell_type": "markdown",
   "metadata": {},
   "source": [
    "Queue: 스택과는 다르게 pop() 함수를 사용하면 결과가 마지막 값이 됨.  \n",
    "pop(0)을 사용하게 되면 첫 번째 값이 결과가 되므로 Queue와 같은 역할을 하게 됨."
   ]
  },
  {
   "cell_type": "code",
   "execution_count": 7,
   "metadata": {},
   "outputs": [
    {
     "name": "stdout",
     "output_type": "stream",
     "text": [
      "1\n",
      "[2, 3, 4, 5, 10, 20]\n",
      "2\n",
      "[3, 4, 5, 10, 20]\n"
     ]
    }
   ],
   "source": [
    "a = [1, 2, 3, 4, 5]\n",
    "a.append(10)\n",
    "a.append(20)\n",
    "\n",
    "print(a.pop(0))\n",
    "print(a)\n",
    "print(a.pop(0))\n",
    "print(a)"
   ]
  },
  {
   "cell_type": "code",
   "execution_count": null,
   "metadata": {},
   "outputs": [],
   "source": []
  },
  {
   "cell_type": "code",
   "execution_count": null,
   "metadata": {},
   "outputs": [],
   "source": []
  },
  {
   "cell_type": "code",
   "execution_count": null,
   "metadata": {},
   "outputs": [],
   "source": []
  },
  {
   "cell_type": "code",
   "execution_count": null,
   "metadata": {},
   "outputs": [],
   "source": []
  }
 ],
 "metadata": {
  "kernelspec": {
   "display_name": "Python 3",
   "language": "python",
   "name": "python3"
  },
  "language_info": {
   "codemirror_mode": {
    "name": "ipython",
    "version": 3
   },
   "file_extension": ".py",
   "mimetype": "text/x-python",
   "name": "python",
   "nbconvert_exporter": "python",
   "pygments_lexer": "ipython3",
   "version": "3.7.9"
  }
 },
 "nbformat": 4,
 "nbformat_minor": 4
}
